{
 "cells": [
  {
   "attachments": {},
   "cell_type": "markdown",
   "metadata": {},
   "source": [
    "### Matrix methods for iterative NVAR prediction & state vector construction\n",
    "\n",
    "#### WIP!"
   ]
  },
  {
   "cell_type": "code",
   "execution_count": 1,
   "metadata": {},
   "outputs": [],
   "source": [
    "import numpy as np\n",
    "import sympy as sp\n",
    "import sys\n",
    "np.set_printoptions(edgeitems=10, linewidth=100000, threshold=sys.maxsize)"
   ]
  },
  {
   "cell_type": "code",
   "execution_count": 8,
   "metadata": {},
   "outputs": [],
   "source": [
    "# mostly empty state/output matrix with seed point (could be seeded with multiple rows)\n",
    "A = np.array([\n",
    "    [sp.symbols(\"x1\"),sp.symbols(\"x2\"),sp.symbols(\"x3\"),sp.symbols(\"x4\"),sp.symbols(\"x1**2\"),sp.symbols(\"x2**2\"),sp.symbols(\"x3**2\"),sp.symbols(\"x4**2\")],\n",
    "    [0,0,0,0,0,0,0,0],\n",
    "    [0,0,0,0,0,0,0,0],\n",
    "    [0,0,0,0,0,0,0,0],\n",
    "    [0,0,0,0,0,0,0,0],\n",
    "    [0,0,0,0,0,0,0,0],\n",
    "    [0,0,0,0,0,0,0,0],\n",
    "    [0,0,0,0,0,0,0,0]\n",
    "])\n",
    "\n",
    "# prediction weights (in first column)\n",
    "# subsequent columns are to shift the most recent linear lookback portion\n",
    "W = np.array([\n",
    "    [sp.symbols(\"w1\"),1,0,0,0,0,0,0],\n",
    "    [sp.symbols(\"w2\"),0,1,0,0,0,0,0],\n",
    "    [sp.symbols(\"w3\"),0,0,1,0,0,0,0],\n",
    "    [sp.symbols(\"w4\"),0,0,0,0,0,0,0],\n",
    "    [sp.symbols(\"w5\"),0,0,0,0,0,0,0],\n",
    "    [sp.symbols(\"w6\"),0,0,0,0,0,0,0],\n",
    "    [sp.symbols(\"w7\"),0,0,0,0,0,0,0],\n",
    "    [sp.symbols(\"w8\"),0,0,0,0,0,0,0]\n",
    "])\n",
    "\n",
    "# permutation matrix to shift previous rows down\n",
    "P = np.array([\n",
    "    [0,0,0,0,0,0,0,0],\n",
    "    [1,0,0,0,0,0,0,0],\n",
    "    [0,1,0,0,0,0,0,0],\n",
    "    [0,0,1,0,0,0,0,0],\n",
    "    [0,0,0,1,0,0,0,0],\n",
    "    [0,0,0,0,1,0,0,0],\n",
    "    [0,0,0,0,0,1,0,0],\n",
    "    [0,0,0,0,0,0,1,0]\n",
    "])"
   ]
  },
  {
   "cell_type": "code",
   "execution_count": 9,
   "metadata": {},
   "outputs": [
    {
     "data": {
      "text/plain": [
       "array([[w1*x1 + w2*x2 + w3*x3 + w4*x4 + w5*x1**2 + w6*x2**2 + w7*x3**2 + w8*x4**2, x1, x2, x3, 0, 0, 0, 0],\n",
       "       [x1, x2, x3, x4, x1**2, x2**2, x3**2, x4**2],\n",
       "       [0, 0, 0, 0, 0, 0, 0, 0],\n",
       "       [0, 0, 0, 0, 0, 0, 0, 0],\n",
       "       [0, 0, 0, 0, 0, 0, 0, 0],\n",
       "       [0, 0, 0, 0, 0, 0, 0, 0],\n",
       "       [0, 0, 0, 0, 0, 0, 0, 0],\n",
       "       [0, 0, 0, 0, 0, 0, 0, 0]], dtype=object)"
      ]
     },
     "execution_count": 9,
     "metadata": {},
     "output_type": "execute_result"
    }
   ],
   "source": [
    "A @ W + P @ A"
   ]
  },
  {
   "cell_type": "code",
   "execution_count": 4,
   "metadata": {},
   "outputs": [
    {
     "data": {
      "text/plain": [
       "array([[w1*x1 + w2*x2 + w3*x3 + w4*x4, x1, x2, x3, 0, 0, 0, 0],\n",
       "       [w1*x1 + w2*x2 + w3*x3 + w4*x4, x1, x2, x3, 0, 0, 0, 0],\n",
       "       [w1*x1 + w2*x2 + w3*x3 + w4*x4, x1, x2, x3, 0, 0, 0, 0],\n",
       "       [w1*x1 + w2*x2 + w3*x3 + w4*x4, x1, x2, x3, 0, 0, 0, 0],\n",
       "       [w1*x1 + w2*x2 + w3*x3 + w4*x4, x1, x2, x3, 0, 0, 0, 0],\n",
       "       [w1*x1 + w2*x2 + w3*x3 + w4*x4, x1, x2, x3, 0, 0, 0, 0],\n",
       "       [w1*x1 + w2*x2 + w3*x3 + w4*x4, x1, x2, x3, 0, 0, 0, 0],\n",
       "       [w1*x1 + w2*x2 + w3*x3 + w4*x4, x1, x2, x3, 0, 0, 0, 0]], dtype=object)"
      ]
     },
     "execution_count": 4,
     "metadata": {},
     "output_type": "execute_result"
    }
   ],
   "source": [
    "Z = np.array([\n",
    "    [1,0,0,0,0,0,0,0],\n",
    "    [1,0,0,0,0,0,0,0],\n",
    "    [1,0,0,0,0,0,0,0],\n",
    "    [1,0,0,0,0,0,0,0],\n",
    "    [1,0,0,0,0,0,0,0],\n",
    "    [1,0,0,0,0,0,0,0],\n",
    "    [1,0,0,0,0,0,0,0],\n",
    "    [1,0,0,0,0,0,0,0]\n",
    "])\n",
    "\n",
    "Z @ A @ W"
   ]
  },
  {
   "cell_type": "code",
   "execution_count": 5,
   "metadata": {},
   "outputs": [
    {
     "data": {
      "text/plain": [
       "array([[0, 0, 0, 0, w1*x1 + w2*x2 + w3*x3 + w4*x4, x1, x2, x3],\n",
       "       [0, 0, 0, 0, 0, 0, 0, 0],\n",
       "       [0, 0, 0, 0, 0, 0, 0, 0],\n",
       "       [0, 0, 0, 0, 0, 0, 0, 0],\n",
       "       [0, 0, 0, 0, 0, 0, 0, 0],\n",
       "       [0, 0, 0, 0, 0, 0, 0, 0],\n",
       "       [0, 0, 0, 0, 0, 0, 0, 0],\n",
       "       [0, 0, 0, 0, 0, 0, 0, 0]], dtype=object)"
      ]
     },
     "execution_count": 5,
     "metadata": {},
     "output_type": "execute_result"
    }
   ],
   "source": [
    "Q = np.array([\n",
    "    [0,0,0,0,1,0,0,0],\n",
    "    [0,0,0,0,0,1,0,0],\n",
    "    [0,0,0,0,0,0,1,0],\n",
    "    [0,0,0,0,0,0,0,1],\n",
    "    [0,0,0,0,0,0,0,0],\n",
    "    [0,0,0,0,0,0,0,0],\n",
    "    [0,0,0,0,0,0,0,0],\n",
    "    [0,0,0,0,0,0,0,0]\n",
    "])\n",
    "\n",
    "A @ W @ Q"
   ]
  },
  {
   "cell_type": "code",
   "execution_count": 6,
   "metadata": {},
   "outputs": [
    {
     "data": {
      "text/plain": [
       "array([[0, 0, 0, 0, 0, 0, 0, 0],\n",
       "       [0, 0, 0, 0, 0, 0, 0, 0],\n",
       "       [0, 0, 0, 0, 0, 0, 0, 0],\n",
       "       [0, 0, 0, 0, 0, 0, 0, 0],\n",
       "       [0, 0, 0, 0, w1*x1 + w2*x2 + w3*x3 + w4*x4, 0, 0, 0],\n",
       "       [0, 0, 0, 0, 0, x1, 0, 0],\n",
       "       [0, 0, 0, 0, 0, 0, x2, 0],\n",
       "       [0, 0, 0, 0, 0, 0, 0, x3]], dtype=object)"
      ]
     },
     "execution_count": 6,
     "metadata": {},
     "output_type": "execute_result"
    }
   ],
   "source": [
    "M = np.array([\n",
    "    [0,0,0,0,0,0,0,0],\n",
    "    [0,0,0,0,0,0,0,0],\n",
    "    [0,0,0,0,0,0,0,0],\n",
    "    [0,0,0,0,0,0,0,0],\n",
    "    [0,0,0,0,1,0,0,0],\n",
    "    [0,0,0,0,0,1,0,0],\n",
    "    [0,0,0,0,0,0,1,0],\n",
    "    [0,0,0,0,0,0,0,1],\n",
    "])\n",
    "\n",
    "(Z @ A @ W @ Q)*M"
   ]
  },
  {
   "cell_type": "code",
   "execution_count": 10,
   "metadata": {},
   "outputs": [
    {
     "data": {
      "text/plain": [
       "array([[w1*x1 + w2*x2 + w3*x3 + w4*x4 + w5*x1**2 + w6*x2**2 + w7*x3**2 + w8*x4**2, x1, x2, x3, (w1*x1 + w2*x2 + w3*x3 + w4*x4 + w5*x1**2 + w6*x2**2 + w7*x3**2 + w8*x4**2)**2, x1**2, x2**2, x3**2],\n",
       "       [x1, x2, x3, x4, x1**2, x2**2, x3**2, x4**2],\n",
       "       [0, 0, 0, 0, 0, 0, 0, 0],\n",
       "       [0, 0, 0, 0, 0, 0, 0, 0],\n",
       "       [0, 0, 0, 0, 0, 0, 0, 0],\n",
       "       [0, 0, 0, 0, 0, 0, 0, 0],\n",
       "       [0, 0, 0, 0, 0, 0, 0, 0],\n",
       "       [0, 0, 0, 0, 0, 0, 0, 0]], dtype=object)"
      ]
     },
     "execution_count": 10,
     "metadata": {},
     "output_type": "execute_result"
    }
   ],
   "source": [
    "# A @ W: produce new output and shifted linear portion\n",
    "# P @ A: permute previous rows down 1\n",
    "# (A @ W @ Q)@((Z @ A @ W @ Q)*M): produce new nonlinear portion\n",
    "A @ W + P @ A + (A @ W @ Q)@((Z @ A @ W @ Q)*M)"
   ]
  }
 ],
 "metadata": {
  "kernelspec": {
   "display_name": "base",
   "language": "python",
   "name": "python3"
  },
  "language_info": {
   "codemirror_mode": {
    "name": "ipython",
    "version": 3
   },
   "file_extension": ".py",
   "mimetype": "text/x-python",
   "name": "python",
   "nbconvert_exporter": "python",
   "pygments_lexer": "ipython3",
   "version": "3.9.13"
  },
  "orig_nbformat": 4,
  "vscode": {
   "interpreter": {
    "hash": "40d3a090f54c6569ab1632332b64b2c03c39dcf918b08424e98f38b5ae0af88f"
   }
  }
 },
 "nbformat": 4,
 "nbformat_minor": 2
}
